{
 "cells": [
  {
   "cell_type": "code",
   "execution_count": 1,
   "metadata": {},
   "outputs": [],
   "source": [
    "%config Completer.use_jedi = False\n",
    "%matplotlib inline"
   ]
  },
  {
   "cell_type": "code",
   "execution_count": 119,
   "metadata": {},
   "outputs": [
    {
     "name": "stderr",
     "output_type": "stream",
     "text": [
      "/Users/ls/anaconda3/envs/xrs/lib/python3.8/site-packages/ipykernel/ipkernel.py:287: DeprecationWarning: `should_run_async` will not call `transform_cell` automatically in the future. Please pass the result to `transformed_cell` argument and any exception that happen during thetransform in `preprocessing_exc_tuple` in IPython 7.17 and above.\n",
      "  and should_run_async(code)\n"
     ]
    }
   ],
   "source": [
    "import os\n",
    "import pytest\n",
    "import xarray as xr \n",
    "\n",
    "import datashader as ds\n",
    "\n",
    "from datashader.transfer_functions import shade\n",
    "\n",
    "from xrspatial.terrain import generate_terrain\n",
    "from xrspatial import hillshade\n",
    "\n",
    "import rasterio, rioxarray\n",
    "\n",
    "from qgis.core import *\n",
    "from qgis.PyQt.QtCore import QFileInfo, QVariant\n",
    "\n",
    "canvas = ds.Canvas(plot_height=400, plot_width=800, x_range=(-10,10), y_range=(-10,10))\n",
    "terrain = generate_terrain(canvas=canvas)\n"
   ]
  },
  {
   "cell_type": "code",
   "execution_count": 3,
   "metadata": {},
   "outputs": [
    {
     "name": "stderr",
     "output_type": "stream",
     "text": [
      "/Users/ls/anaconda3/envs/xrs/lib/python3.8/site-packages/ipykernel/ipkernel.py:287: DeprecationWarning: `should_run_async` will not call `transform_cell` automatically in the future. Please pass the result to `transformed_cell` argument and any exception that happen during thetransform in `preprocessing_exc_tuple` in IPython 7.17 and above.\n",
      "  and should_run_async(code)\n"
     ]
    }
   ],
   "source": [
    "QgsApplication.setPrefixPath(\"/Users/ls/anaconda3/envs/xrs/bin/qgis\", True)\n",
    "\n",
    "qgs = QgsApplication([], True)\n",
    "\n",
    "qgs.initQgis()"
   ]
  },
  {
   "cell_type": "code",
   "execution_count": 20,
   "metadata": {},
   "outputs": [
    {
     "name": "stderr",
     "output_type": "stream",
     "text": [
      "/Users/ls/anaconda3/envs/xrs/lib/python3.8/site-packages/ipykernel/ipkernel.py:287: DeprecationWarning: `should_run_async` will not call `transform_cell` automatically in the future. Please pass the result to `transformed_cell` argument and any exception that happen during thetransform in `preprocessing_exc_tuple` in IPython 7.17 and above.\n",
      "  and should_run_async(code)\n"
     ]
    }
   ],
   "source": [
    "project = QgsProject.instance()\n",
    "\n",
    "fileName = \"raster_terrrain.tif\"\n",
    "fileInfo = QFileInfo(fileName)\n",
    "baseName = fileInfo.baseName()\n",
    "rlayer = QgsRasterLayer(fileName, baseName)\n",
    "# listNames = [layer.name() for layer in project.mapLayers().values()]\n",
    "# layersList = { }\n",
    "# for l in project.mapLayers().values():\n",
    "#     layersList[l.name()] = l\n",
    "\n",
    "# root = project.layerTreeRoot()\n",
    "from qgis.PyQt.Qt import QColor\n",
    "fcn = QgsColorRampShader()\n",
    "fcn.setColorRampType(QgsColorRampShader.Interpolated)\n",
    "lst = [ QgsColorRampShader.ColorRampItem(0, QColor(0,0,0)), \n",
    "        QgsColorRampShader.ColorRampItem(255, QColor(255,255,255)) ]\n",
    "fcn.setColorRampItemList(lst)\n",
    "shader = QgsRasterShader()\n",
    "shader.setRasterShaderFunction(fcn)"
   ]
  },
  {
   "cell_type": "code",
   "execution_count": null,
   "metadata": {},
   "outputs": [],
   "source": [
    "# renderer = QgsSingleBandPseudoColorRenderer(rlayer.dataProvider(), 1, shader)\n",
    "# rlayer.setRenderer(renderer)\n",
    "# rlayer.save()"
   ]
  },
  {
   "cell_type": "code",
   "execution_count": 121,
   "metadata": {},
   "outputs": [
    {
     "ename": "TypeError",
     "evalue": "QgsRasterMatrix(): arguments did not match any overloaded call:\n  overload 1: too many arguments\n  overload 2: argument 1 has unexpected type 'numpy.ndarray'",
     "output_type": "error",
     "traceback": [
      "\u001b[0;31m---------------------------------------------------------------------------\u001b[0m",
      "\u001b[0;31mTypeError\u001b[0m                                 Traceback (most recent call last)",
      "\u001b[0;32m<ipython-input-121-1b46cc653213>\u001b[0m in \u001b[0;36m<module>\u001b[0;34m\u001b[0m\n\u001b[1;32m      3\u001b[0m \u001b[0mnp\u001b[0m\u001b[0;34m.\u001b[0m\u001b[0mset_printoptions\u001b[0m\u001b[0;34m(\u001b[0m\u001b[0mthreshold\u001b[0m\u001b[0;34m=\u001b[0m\u001b[0;36m10\u001b[0m\u001b[0;34m)\u001b[0m\u001b[0;34m\u001b[0m\u001b[0;34m\u001b[0m\u001b[0m\n\u001b[1;32m      4\u001b[0m \u001b[0ms\u001b[0m \u001b[0;34m=\u001b[0m \u001b[0mQgsHillshadeRenderer\u001b[0m\u001b[0;34m(\u001b[0m\u001b[0mrlayer\u001b[0m\u001b[0;34m.\u001b[0m\u001b[0mdataProvider\u001b[0m\u001b[0;34m(\u001b[0m\u001b[0;34m)\u001b[0m\u001b[0;34m,\u001b[0m \u001b[0;36m1\u001b[0m\u001b[0;34m,\u001b[0m \u001b[0;36m25\u001b[0m\u001b[0;34m,\u001b[0m \u001b[0;36m24\u001b[0m\u001b[0;34m)\u001b[0m\u001b[0;34m\u001b[0m\u001b[0;34m\u001b[0m\u001b[0m\n\u001b[0;32m----> 5\u001b[0;31m \u001b[0mQgsRasterMatrix\u001b[0m\u001b[0;34m(\u001b[0m\u001b[0mnp\u001b[0m\u001b[0;34m.\u001b[0m\u001b[0marray\u001b[0m\u001b[0;34m(\u001b[0m\u001b[0mterrain\u001b[0m\u001b[0;34m)\u001b[0m\u001b[0;34m)\u001b[0m\u001b[0;34m\u001b[0m\u001b[0;34m\u001b[0m\u001b[0m\n\u001b[0m\u001b[1;32m      6\u001b[0m \u001b[0;31m# si = s.input()\u001b[0m\u001b[0;34m\u001b[0m\u001b[0;34m\u001b[0m\u001b[0;34m\u001b[0m\u001b[0m\n\u001b[1;32m      7\u001b[0m \u001b[0;31m# sib = si.block(1, s.extent(), rlayer.width(), rlayer.height())\u001b[0m\u001b[0;34m\u001b[0m\u001b[0;34m\u001b[0m\u001b[0;34m\u001b[0m\u001b[0m\n",
      "\u001b[0;31mTypeError\u001b[0m: QgsRasterMatrix(): arguments did not match any overloaded call:\n  overload 1: too many arguments\n  overload 2: argument 1 has unexpected type 'numpy.ndarray'"
     ]
    }
   ],
   "source": [
    "import numpy as np\n",
    "from qgis.analysis import QgsRasterMatrix, QgsSlopeFilter, QgsAspectFilter\n",
    "np.set_printoptions(threshold=10)\n",
    "s = QgsHillshadeRenderer(rlayer.dataProvider(), 1, 25, 24)\n",
    "QgsSlopeFilter()\n",
    "# si = s.input()\n",
    "# sib = si.block(1, s.extent(), rlayer.width(), rlayer.height())\n",
    "# shape = (sib.height(), sib.width())\n",
    "# out = np.zeros(shape, dtype=np.float)\n",
    "# for y in range(shape[0]):\n",
    "#     for x in range(shape[1]):\n",
    "#         out[y, x] = sib.value(y, x)\n",
    "# out\n",
    "# sibd = sib.data\n",
    "# sibd()"
   ]
  },
  {
   "cell_type": "code",
   "execution_count": null,
   "metadata": {},
   "outputs": [],
   "source": [
    "# image_location = \"render.png\"\n",
    "\n",
    "# vlayer = rlayer\n",
    "# settings = QgsMapSettings()\n",
    "# settings.setLayers([vlayer])\n",
    "# settings.setBackgroundColor(QColor(255, 255, 255))\n",
    "# settings.setOutputSize(QSize(800, 600))\n",
    "# settings.setExtent(vlayer.extent())\n",
    "\n",
    "# render = QgsMapRendererParallelJob(settings)\n",
    "\n",
    "# def finished():\n",
    "#     img = render.renderedImage()\n",
    "#     # save the image; e.g. img.save(\"/Users/myuser/render.png\",\"png\")\n",
    "#     img.save(image_location, \"png\")\n",
    "\n",
    "# render.finished.connect(finished)\n",
    "\n",
    "# # Start the rendering\n",
    "# render.start()\n",
    "\n",
    "# # The following loop is not normally required, we\n",
    "# # are using it here because this is a standalone example.\n",
    "# from qgis.PyQt.QtCore import QEventLoop\n",
    "# loop = QEventLoop()\n",
    "# render.finished.connect(loop.quit)\n",
    "# loop.exec_()"
   ]
  },
  {
   "cell_type": "code",
   "execution_count": null,
   "metadata": {},
   "outputs": [],
   "source": []
  },
  {
   "cell_type": "markdown",
   "metadata": {},
   "source": [
    "aspect,\n",
    "bump,\n",
    "classify,\n",
    "convolution,\n",
    "curvature,\n",
    "esri,\n",
    "focal, \n",
    "hillshade,\n",
    "multispectral,\n",
    "pathfinding,\n",
    "perlin,\n",
    "proximity,\n",
    "slope,\n",
    "terrain,\n",
    "tiles,\n",
    "utils,\n",
    "viewshed,\n",
    "zonal"
   ]
  }
 ],
 "metadata": {
  "kernelspec": {
   "display_name": "Python 3",
   "language": "python",
   "name": "python3"
  },
  "language_info": {
   "codemirror_mode": {
    "name": "ipython",
    "version": 3
   },
   "file_extension": ".py",
   "mimetype": "text/x-python",
   "name": "python",
   "nbconvert_exporter": "python",
   "pygments_lexer": "ipython3",
   "version": "3.8.8"
  }
 },
 "nbformat": 4,
 "nbformat_minor": 4
}
