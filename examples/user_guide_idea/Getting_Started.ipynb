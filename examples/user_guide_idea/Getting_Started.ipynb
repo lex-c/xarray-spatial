{
 "cells": [
  {
   "cell_type": "markdown",
   "metadata": {},
   "source": [
    "## Xarray-spatial"
   ]
  },
  {
   "cell_type": "markdown",
   "metadata": {},
   "source": [
    "#### Raster-based spatial analysis in Python"
   ]
  },
  {
   "cell_type": "markdown",
   "metadata": {},
   "source": [
    "### Introduction\n",
    "Xarray-Spatial implements common raster analysis functions  \n",
    "on xarray data types. It is built to easily extend xarray functions  \n",
    "to rasters in an easy-to-use, straightforward way,  \n",
    "and it optimizes efficiency by integrating operations  \n",
    "with Numba and Dask."
   ]
  },
  {
   "cell_type": "markdown",
   "metadata": {},
   "source": [
    "### Getting Started:"
   ]
  },
  {
   "cell_type": "markdown",
   "metadata": {},
   "source": [
    "### Installation:"
   ]
  },
  {
   "cell_type": "markdown",
   "metadata": {},
   "source": [
    "#### 1. Install xarray-spatial in your preferred virtual environment, using conda or pip"
   ]
  },
  {
   "cell_type": "markdown",
   "metadata": {},
   "source": [
    "##### conda:\n",
    "    conda install -c conda-forge xarray-spatial\n",
    "    conda install -c makepath xarray-spatial"
   ]
  },
  {
   "cell_type": "markdown",
   "metadata": {},
   "source": [
    "##### pip:\n",
    "    pip install xarray-spatial"
   ]
  },
  {
   "cell_type": "markdown",
   "metadata": {},
   "source": [
    "#### 2. Verify that the installation was successful by importing it:  "
   ]
  },
  {
   "cell_type": "markdown",
   "metadata": {},
   "source": [
    "Run the following line of code in your project's base python directory:\n",
    "\n",
    "    import xrspatial"
   ]
  },
  {
   "cell_type": "markdown",
   "metadata": {},
   "source": [
    "If you don't see any errors in your console, you should be good to go  \n",
    "and ready to implement xarray-spatial functions in your code.  "
   ]
  },
  {
   "cell_type": "markdown",
   "metadata": {},
   "source": [
    "### User Guide\n",
    "   See the user guide for an in-depth exploration of the package to help you get the most  \n",
    "   out of xarray-spatial"
   ]
  },
  {
   "cell_type": "markdown",
   "metadata": {},
   "source": [
    "### Use Cases\n",
    "   Jump right in with our easy-to-follow use-cases to get  \n",
    "   a feel for using xarray-spatial in your projects."
   ]
  }
 ],
 "metadata": {
  "kernelspec": {
   "display_name": "Python 3",
   "language": "python",
   "name": "python3"
  },
  "language_info": {
   "codemirror_mode": {
    "name": "ipython",
    "version": 3
   },
   "file_extension": ".py",
   "mimetype": "text/x-python",
   "name": "python",
   "nbconvert_exporter": "python",
   "pygments_lexer": "ipython3",
   "version": "3.8.8"
  }
 },
 "nbformat": 4,
 "nbformat_minor": 4
}
