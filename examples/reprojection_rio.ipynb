{
 "cells": [
  {
   "cell_type": "code",
   "execution_count": null,
   "id": "1161955b",
   "metadata": {},
   "outputs": [],
   "source": [
    "import rioxarray\n",
    "import rasterio\n",
    "from rasterio.warp import Resampling, calculate_default_transform, reproject\n",
    "import datashader as ds\n",
    "from datashader.transfer_functions import shade, stack, set_background\n",
    "import dask.array as da\n",
    "import xarray as xr\n",
    "import numpy as np\n",
    "import sys\n",
    "from xrspatial.utils import ArrayTypeFunctionMapping\n",
    "import math\n",
    "from datashader.colors import Elevation\n",
    "from xrspatial import hillshade"
   ]
  },
  {
   "cell_type": "code",
   "execution_count": null,
   "id": "ad64aa71",
   "metadata": {},
   "outputs": [],
   "source": [
    "def shade_elev_hs(elev_3D, band=1):\n",
    "    if not isinstance(elev_3D, xr.DataArray):\n",
    "        elev_3D = xr.DataArray(elev_3D, dims=('band', 'y', 'x'))\n",
    "    return stack(shade(elev_3D[band-1], cmap=Elevation),\n",
    "                 shade(hillshade(elev_3D[band-1]), cmap=['blue', 'grey'],\n",
    "                       how='eq_hist', min_alpha=0.2, alpha=0.8))"
   ]
  },
  {
   "cell_type": "code",
   "execution_count": null,
   "id": "f8ec8c84",
   "metadata": {},
   "outputs": [],
   "source": [
    "def add_coords_crs_on_arr(arr: xr.DataArray, coords_list, crs):\n",
    "    for coord in coords_list:\n",
    "        coord_name = coord[0]\n",
    "        coord_arr = coord[1]\n",
    "        arr.coords[coord_name] = coord_arr\n",
    "    arr.rio.set_crs(crs, inplace=True)\n",
    "    arr.rio.write_crs(crs, inplace=True)\n",
    "    arr.rio.write_transform(inplace=True)\n",
    "    return arr"
   ]
  },
  {
   "cell_type": "code",
   "execution_count": null,
   "id": "fdbdd2a9",
   "metadata": {},
   "outputs": [],
   "source": [
    "def reproject_coords(src_shape, src_coords, src_crs, dst_crs):\n",
    "    src_empty = np.empty(src_shape)\n",
    "    src_empty_da = xr.DataArray(src_empty, dims=('band', 'y', 'x'))\n",
    "    src_empty_da = add_coords_crs_on_arr(src_empty_da, src_coords, src_crs)\n",
    "    dst_empty_da = src_empty_da.rio.reproject(dst_crs)\n",
    "    dst_coords = gen_coords_list(dst_empty_da)\n",
    "    return dst_coords"
   ]
  },
  {
   "cell_type": "code",
   "execution_count": null,
   "id": "4700d00f",
   "metadata": {},
   "outputs": [],
   "source": [
    "def gen_coords_list(src_da):\n",
    "    src_coords = [[coord, src_da.coords[coord]] for coord in src_da.coords if coord in ('band', 'y', 'x')]\n",
    "    return src_coords"
   ]
  },
  {
   "cell_type": "code",
   "execution_count": null,
   "id": "c0b27fa0",
   "metadata": {},
   "outputs": [],
   "source": [
    "def gen_chunk_locations(numblocks):\n",
    "    chunk_locations = []\n",
    "    for i in range(numblocks[0]):\n",
    "        for j in range(numblocks[1]):\n",
    "            for k in range(numblocks[2]):\n",
    "                chunk_locations.append([i, j, k])\n",
    "    return chunk_locations"
   ]
  },
  {
   "cell_type": "code",
   "execution_count": null,
   "id": "0d7140b6",
   "metadata": {},
   "outputs": [],
   "source": [
    "def list_chunk_shapes(chunks, chunk_locations):\n",
    "    shapes = []\n",
    "    chunks = [list(chnk) for chnk in chunks]\n",
    "    for loc in chunk_locations:\n",
    "        shape = []\n",
    "        for i in range(len(chunks)):\n",
    "            shape.append(chunks[i][loc[i]])\n",
    "        shapes.append(shape)\n",
    "    return shapes"
   ]
  },
  {
   "cell_type": "code",
   "execution_count": null,
   "id": "bccf4acd",
   "metadata": {},
   "outputs": [],
   "source": [
    "def gen_array_locations(chunk_locations, shapes):\n",
    "    array_locations = []\n",
    "    for i in range(len(shapes)):\n",
    "        array_locations.append([])\n",
    "        for j in range(3):\n",
    "            if i > 0:\n",
    "                sum_previous = 0\n",
    "                for k in range(chunk_locations[i][j]):\n",
    "                    sum_previous += (array_locations[k][j][1] - array_locations[k][j][0])\n",
    "                loc = [sum_previous, sum_previous + shapes[i][j]]\n",
    "            else:\n",
    "                loc = [0, shapes[i][j]]\n",
    "            array_locations[i].append(loc)\n",
    "    return array_locations"
   ]
  },
  {
   "cell_type": "code",
   "execution_count": null,
   "id": "5714f641",
   "metadata": {},
   "outputs": [],
   "source": [
    "def gen_chunkshapes(chunks):\n",
    "    chunkshapes = []\n",
    "    shape_range = tuple(range(len(chunks)))\n",
    "    for i in range(len(chunks[0])):\n",
    "        for j in range(len(chunks[1])):\n",
    "            for k in range(len(chunks[2])):\n",
    "                shape = (chunks[0][i], chunks[1][j], chunks[2][k])\n",
    "                chunkshapes.append(shape)\n",
    "    return chunkshapes"
   ]
  },
  {
   "cell_type": "code",
   "execution_count": null,
   "id": "688a519c",
   "metadata": {},
   "outputs": [],
   "source": [
    "def gen_new_shapes_chunksizes(src_coords, chunkshapes, array_locations, src_crs, dst_crs):\n",
    "    new_shapes = []\n",
    "    for i in range(len(chunkshapes)):\n",
    "        empty_np = np.empty(chunkshapes[i])\n",
    "        empty_da = xr.DataArray(empty_np, dims=('band', 'y', 'x'))\n",
    "        block_coords = []\n",
    "        for j in range(len(src_coords)):\n",
    "            coord_name = src_coords[j][0]\n",
    "            coord_arr = src_coords[j][1]\n",
    "            if j == 0:\n",
    "                block_coord = coord_arr\n",
    "            else:\n",
    "                array_location = array_locations[i][j]\n",
    "                start = array_location[0]\n",
    "                end = array_location[1] \n",
    "                block_coord = coord_arr[start:end]\n",
    "            block_coords.append([coord_name, block_coord])\n",
    "            empty_da.coords[coord_name] = block_coord\n",
    "        empty_da.rio.set_crs(src_crs, inplace=True)\n",
    "        empty_da.rio.write_crs(src_crs, inplace=True)\n",
    "        empty_da.rio.write_transform(inplace=True)\n",
    "        reprojected = empty_da.rio.reproject(dst_crs)\n",
    "        new_shape = reprojected.data.shape\n",
    "        new_shapes.append(new_shape)\n",
    "    new_chunksizes = list(zip(*new_shapes))\n",
    "    return (new_shapes, new_chunksizes)"
   ]
  },
  {
   "cell_type": "code",
   "execution_count": null,
   "id": "7b3c0e5c",
   "metadata": {},
   "outputs": [],
   "source": [
    "def gen_new_chunks(numblocks, chunksizes):\n",
    "    new_chunks = []\n",
    "    for i in range(len(numblocks)):\n",
    "        num = numblocks[i]\n",
    "        new_chunks.append(chunksizes[i][-num:])\n",
    "    return new_chunks"
   ]
  },
  {
   "cell_type": "code",
   "execution_count": null,
   "id": "36ccd6df",
   "metadata": {},
   "outputs": [],
   "source": [
    "def calc_chunksizes_rio(src_shape, src_coords, chunks, numblocks, src_crs, dst_crs):\n",
    "    chunk_locations = gen_chunk_locations(numblocks)\n",
    "    shapes = list_chunk_shapes(chunks, chunk_locations)\n",
    "    array_locations = gen_array_locations(chunk_locations, shapes)\n",
    "    chunkshapes = gen_chunkshapes(chunks)\n",
    "    new_shapes, new_chunksizes = gen_new_shapes_chunksizes(src_coords,\n",
    "                                                           chunkshapes,\n",
    "                                                           array_locations,\n",
    "                                                           src_crs,\n",
    "                                                           dst_crs)\n",
    "    new_chunks = gen_new_chunks(numblocks, new_chunksizes)\n",
    "    return new_chunks"
   ]
  },
  {
   "cell_type": "code",
   "execution_count": null,
   "id": "db819fa0",
   "metadata": {},
   "outputs": [],
   "source": [
    "def calc_chunksizes_rasterio(src_crs, dst_crs, src_shape, src_bounds, numblocks):\n",
    "    bands, height, width = src_shape\n",
    "    dst_transform, dst_width, dst_height =\\\n",
    "    calculate_default_transform(src_crs,\n",
    "                                dst_crs,\n",
    "                                width,\n",
    "                                height,\n",
    "                                *src_bounds)\n",
    "    dst_shape = (bands, dst_height, dst_width)\n",
    "    new_chunksizes = []\n",
    "    for i in range(len(numblocks)):\n",
    "        new_chunksizes.append([])\n",
    "        for j in range(numblocks[i]):\n",
    "            chunk_dim = int(math.ceil(dst_shape[i]/numblocks[i]))\n",
    "            new_chunksizes[i].append(chunk_dim)\n",
    "    diffs = [dst_shape[i] - sum(new_chunksizes[i]) for i in range(len(new_chunksizes))]\n",
    "    for i in range(len(diffs)):\n",
    "        if diffs[i] != 0:\n",
    "            # TODO: decide if needs to check if adjustment goes into next chunk\n",
    "#             adjusted = new_chunksizes_raw[i][-1] += diffs[i]\n",
    "#             if adjusted < 0:\n",
    "            new_chunksizes[i][-1] += diffs[i]\n",
    "    return new_chunksizes"
   ]
  },
  {
   "cell_type": "code",
   "execution_count": null,
   "id": "1402be4c",
   "metadata": {},
   "outputs": [],
   "source": [
    "def _block_reproject(data, src_coords, src_crs, dst_crs, block_info=None, **kwargs):\n",
    "    if block_info is not None:\n",
    "        data_arr = xr.DataArray(data, dims=('band', 'y', 'x'))\n",
    "        in_arr_loc = block_info[0]['array-location']\n",
    "        block_coords = []\n",
    "        for i in range(len(in_arr_loc)):\n",
    "            dim_start = in_arr_loc[i][0]\n",
    "            dim_end = in_arr_loc[i][1]\n",
    "            dim_coord_name = src_coords[i][0]\n",
    "            dim_coord = src_coords[i][1]\n",
    "            block_dim_coord = dim_coord[dim_start:dim_end]\n",
    "            block_coords.append((dim_coord_name, block_dim_coord))\n",
    "        data_arr = add_coords_crs_on_arr(data_arr, block_coords, src_crs)\n",
    "        dst_arr_loc = block_info[None]['array-location']\n",
    "        dst_shape = []\n",
    "        for i in range(len(dst_arr_loc)):\n",
    "            dim_len = dst_arr_loc[i][1] - dst_arr_loc[i][0]\n",
    "            dst_shape.append(dim_len)\n",
    "        _, dst_height, dst_width = dst_shape\n",
    "        reprojected_block_da = data_arr.rio.reproject(dst_crs,\n",
    "                                                      shape=(dst_height, dst_width),\n",
    "                                                      **kwargs)\n",
    "        reprojected_block = reprojected_block_da.data\n",
    "        return reprojected_block"
   ]
  },
  {
   "cell_type": "code",
   "execution_count": null,
   "id": "cc9dca9f",
   "metadata": {},
   "outputs": [],
   "source": [
    "def _cupy_reproject():\n",
    "    raise NotImplementedError('cupy is not supported yet; please use numpy or dask')\n",
    "    \n",
    "def _dask_cupy_reproject():\n",
    "    raise NotImplementedError('dask cupy not implemented yet; please use numpy or dask')"
   ]
  },
  {
   "cell_type": "code",
   "execution_count": null,
   "id": "f92a9526",
   "metadata": {},
   "outputs": [],
   "source": [
    "def _numpy_reproject(arr, dst_crs, **kwargs):\n",
    "    return arr.rio.reproject(dst_crs, **kwargs)"
   ]
  },
  {
   "cell_type": "code",
   "execution_count": null,
   "id": "88ec7201",
   "metadata": {},
   "outputs": [],
   "source": [
    "def _dask_reproject(arr, dst_crs, **kwargs):\n",
    "    data = arr.data.astype(np.uint16)\n",
    "    src_coords = gen_coords_list(arr)\n",
    "    src_crs = arr.rio.crs\n",
    "    src_shape = data.shape\n",
    "    src_bounds = arr.rio.bounds()\n",
    "    src_chunks = data.chunks\n",
    "    numblocks = data.numblocks\n",
    "    \n",
    "#     chunks = calc_chunksizes_rio(src_shape,\n",
    "#                                  src_coords,\n",
    "#                                  src_chunks,\n",
    "#                                  numblocks,\n",
    "#                                  src_crs,\n",
    "#                                  dst_crs)\n",
    "# Using this means dst_shape is necessary in rio.reproject\n",
    "    chunks = calc_chunksizes_rasterio(src_crs,\n",
    "                                      dst_crs,\n",
    "                                      src_shape,\n",
    "                                      src_bounds,\n",
    "                                      numblocks)\n",
    "    reprojected_data = da.map_blocks(_block_reproject,\n",
    "                                     arr.data,\n",
    "                                     src_coords,\n",
    "                                     src_crs,\n",
    "                                     dst_crs,\n",
    "                                     chunks=chunks,\n",
    "                                     dtype=np.uint16,\n",
    "                                     **kwargs)\n",
    "    reprojected_data = np.rot90(np.rot90(reprojected_data))\n",
    "    return reprojected_data"
   ]
  },
  {
   "cell_type": "code",
   "execution_count": null,
   "id": "f2ce7d38",
   "metadata": {},
   "outputs": [],
   "source": [
    "def reprojection_rio(arr: xr.DataArray, dst_crs, **kwargs):\n",
    "    mapper = ArrayTypeFunctionMapping(numpy_func=_numpy_reproject,\n",
    "                                      cupy_func=_cupy_reproject,\n",
    "                                      dask_func=_dask_reproject,\n",
    "                                      dask_cupy_func=_dask_cupy_reproject)\n",
    "    reprojected = mapper(arr)(arr, dst_crs, **kwargs)\n",
    "    return reprojected"
   ]
  },
  {
   "cell_type": "markdown",
   "id": "889fa9df",
   "metadata": {},
   "source": [
    "## Reprojection: some examples with several common earth projections\n",
    "### Xarray-spatial provides the option to reproject the coordinate reference system (crs) of xarray DataArrays, using standard notation"
   ]
  },
  {
   "cell_type": "code",
   "execution_count": null,
   "id": "e81280cd",
   "metadata": {},
   "outputs": [],
   "source": [
    "earth_lat_lon = rioxarray.open_rasterio('/Users/ls/Downloads/elevation.tif', chunks=(1, 135, 270))\n",
    "shade_elev_hs(earth_lat_lon)"
   ]
  },
  {
   "cell_type": "code",
   "execution_count": null,
   "id": "4d282ec3",
   "metadata": {},
   "outputs": [],
   "source": [
    "web_mercator_crs = 'EPSG:3857'\n",
    "web_mercator_earth = reprojection_rio(earth_lat_lon, web_mercator_crs)\n",
    "shade_elev_hs(web_mercator_earth)"
   ]
  },
  {
   "cell_type": "code",
   "execution_count": null,
   "id": "a1768d9f",
   "metadata": {},
   "outputs": [],
   "source": [
    "robinson_crs = 'ESRI:54030'\n",
    "robinson_earth = reprojection_rio(earth_lat_lon[:,:,:], robinson_crs)\n",
    "shade_elev_hs(robinson_earth)"
   ]
  },
  {
   "cell_type": "code",
   "execution_count": null,
   "id": "1e8e65bf",
   "metadata": {},
   "outputs": [],
   "source": [
    "transverse_mercator_crs = 'EPSG:3004'\n",
    "transverse_mercator_earth = reprojection_rio(earth_lat_lon[:,:50,:], transverse_mercator_crs)\n",
    "shade_elev_hs(transverse_mercator_earth)"
   ]
  },
  {
   "cell_type": "code",
   "execution_count": null,
   "id": "49e8073c",
   "metadata": {},
   "outputs": [],
   "source": [
    "lambert_crs = 'ESRI:102009'\n",
    "lambert_earth_NA = reprojection_rio(earth_lat_lon[:,25:125,50:200], lambert_crs)\n",
    "shade_elev_hs(lambert_earth_NA)"
   ]
  },
  {
   "cell_type": "code",
   "execution_count": null,
   "id": "0057bab0",
   "metadata": {},
   "outputs": [],
   "source": [
    "space_oblique_crs = 'EPSG:29873'\n",
    "space_oblique_earth = reprojection_rio(earth_lat_lon[:,:100,:150], space_oblique_crs)\n",
    "shade_elev_hs(space_oblique_earth)"
   ]
  }
 ],
 "metadata": {
  "language_info": {
   "name": "python"
  }
 },
 "nbformat": 4,
 "nbformat_minor": 5
}
