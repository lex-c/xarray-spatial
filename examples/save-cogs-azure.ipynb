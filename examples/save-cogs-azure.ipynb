{
 "cells": [
  {
   "cell_type": "code",
   "execution_count": null,
   "id": "9cd4ab23",
   "metadata": {},
   "outputs": [],
   "source": [
    "import numpy as np\n",
    "import xarray as xr\n",
    "import xrspatial\n",
    "from xrspatial.terrain import generate_terrain\n",
    "import rioxarray\n",
    "import datashader as ds"
   ]
  },
  {
   "cell_type": "code",
   "execution_count": null,
   "id": "4db3c2a5",
   "metadata": {},
   "outputs": [],
   "source": [
    "# example with terrain and add 1 band\n",
    "cvs = ds.Canvas(x_range=(-20,20), y_range=(-20,20), plot_height=400, plot_width=800)\n",
    "terrain = generate_terrain(canvas=cvs)\n",
    "terrain = terrain.assign_coords(band = np.asarray(1, np.int64))\n",
    "terrain = terrain.expand_dims('band')\n",
    "terrain.dims"
   ]
  },
  {
   "cell_type": "code",
   "execution_count": null,
   "id": "501911a8",
   "metadata": {},
   "outputs": [],
   "source": [
    "terrain.rio.to_raster('rioxarray_terrain.tiff')"
   ]
  },
  {
   "cell_type": "code",
   "execution_count": null,
   "id": "184dcbb5",
   "metadata": {},
   "outputs": [],
   "source": [
    "import os\n",
    "from azure.storage.blob import BlobClient\n",
    "from azure.storage.blob import ContentSettings\n",
    "\n",
    "blob = BlobClient(\"https://xarrayspatial.blob.core.windows.net/\", \n",
    "                  \"examples-data\", \n",
    "                  \"rioxarray_cog.tiff\",\n",
    "                 credential=os.environ['AZURE_ACCESS_KEY'])\n",
    "with open('rioxarray_terrain.tiff', 'rb') as img:\n",
    "    blob.upload_blob(img)\n",
    "content_settings = ContentSettings(content_type='image/tiff')\n",
    "blob.set_http_headers(content_settings=content_settings)"
   ]
  }
 ],
 "metadata": {
  "kernelspec": {
   "display_name": "Python 3",
   "language": "python",
   "name": "python3"
  },
  "language_info": {
   "codemirror_mode": {
    "name": "ipython",
    "version": 3
   },
   "file_extension": ".py",
   "mimetype": "text/x-python",
   "name": "python",
   "nbconvert_exporter": "python",
   "pygments_lexer": "ipython3",
   "version": "3.8.8"
  }
 },
 "nbformat": 4,
 "nbformat_minor": 5
}
