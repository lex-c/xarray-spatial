{
 "cells": [
  {
   "cell_type": "code",
   "execution_count": null,
   "id": "9cd4ab23",
   "metadata": {},
   "outputs": [],
   "source": [
    "import os\n",
    "\n",
    "import numpy as np\n",
    "import xarray as xr\n",
    "import xrspatial\n",
    "from xrspatial.terrain import generate_terrain\n",
    "import rioxarray\n",
    "import datashader as ds\n",
    "import rasterio\n",
    "from rasterio.io import MemoryFile\n",
    "from rasterio.enums import Resampling\n",
    "from azure.storage.blob import BlobClient\n",
    "from azure.storage.blob import ContentSettings"
   ]
  },
  {
   "cell_type": "code",
   "execution_count": null,
   "id": "4db3c2a5",
   "metadata": {},
   "outputs": [],
   "source": [
    "# example with terrain and add 1 band\n",
    "cvs = ds.Canvas(x_range=(-20,20), y_range=(-20,20), plot_height=400, plot_width=800)\n",
    "terrain_a = generate_terrain(canvas=cvs)\n",
    "terrain_a.data = terrain_a.data.astype(np.int32)\n",
    "terrain_a = terrain_a.assign_coords(band = np.asarray(1, np.int32))\n",
    "terrain_a = terrain_a.expand_dims('band')\n",
    "terrain_b = generate_terrain(canvas=cvs, seed=1)\n",
    "terrain_b.data = terrain_b.data.astype(np.int32)\n",
    "terrain_b = terrain_b.assign_coords(band = np.asarray(2, np.int32))\n",
    "terrain_b = terrain_b.expand_dims('band')\n",
    "terrain = xr.concat([terrain_a, terrain_b], 'band')\n",
    "terrain['band']"
   ]
  },
  {
   "cell_type": "code",
   "execution_count": null,
   "id": "a841b147",
   "metadata": {},
   "outputs": [],
   "source": [
    "def set_get_blob(filename):\n",
    "    blob = BlobClient(\"https://xarrayspatial.blob.core.windows.net/\", \n",
    "                      \"examples-data\", \n",
    "                      f\"{filename}.tiff\",\n",
    "                     credential=os.environ['AZURE_ACCESS_KEY'])\n",
    "    return blob"
   ]
  },
  {
   "cell_type": "code",
   "execution_count": null,
   "id": "501911a8",
   "metadata": {},
   "outputs": [],
   "source": [
    "y_size = terrain.data.shape[1]\n",
    "x_size = terrain.data.shape[2]\n",
    "num_bands = len(terrain['band'])\n",
    "\n",
    "with MemoryFile() as memfile:\n",
    "    with memfile.open(driver='GTiff',\n",
    "                      width=x_size, height=y_size,\n",
    "                      count=num_bands,\n",
    "                      dtype=rasterio.dtypes.int32) as dst:\n",
    "        dst.write(terrain)\n",
    "        dst.build_overviews([2], Resampling.nearest)  \n",
    "    blob = set_get_blob(\"terrain_ovws_1\")\n",
    "    blob.upload_blob(memfile)\n",
    "    content_settings = ContentSettings(content_type='image/tiff')\n",
    "    blob.set_http_headers(content_settings=content_settings)"
   ]
  },
  {
   "cell_type": "code",
   "execution_count": null,
   "id": "43de155c",
   "metadata": {},
   "outputs": [],
   "source": []
  }
 ],
 "metadata": {
  "language_info": {
   "name": "python"
  }
 },
 "nbformat": 4,
 "nbformat_minor": 5
}
