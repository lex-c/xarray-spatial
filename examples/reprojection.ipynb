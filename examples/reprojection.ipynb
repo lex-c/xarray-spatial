{
 "cells": [
  {
   "cell_type": "markdown",
   "id": "0f1877e2",
   "metadata": {},
   "source": [
    "## Reprojection: An example with ____\n",
    "### Xarray-spatial provides the option to reproject the coordinate reference system (crs) of xarray DataArrays, using standard notation"
   ]
  },
  {
   "cell_type": "code",
   "execution_count": null,
   "id": "77e1691b",
   "metadata": {},
   "outputs": [],
   "source": [
    "import rioxarray\n",
    "import rasterio\n",
    "from rasterio.warp import Resampling\n",
    "import datashader\n",
    "from datashader.transfer_functions import shade"
   ]
  },
  {
   "cell_type": "code",
   "execution_count": null,
   "id": "8ce9e377",
   "metadata": {},
   "outputs": [],
   "source": [
    "# function for tif reprojection and write\n",
    "# def reproject_tif(filepath, dst_filepath, dst_crs, resampling=Resampling.bilinear):\n",
    "\n",
    "#     with rasterio.open(filepath) as src:\n",
    "#         transform, width, height = calculate_default_transform(\n",
    "#             src.crs,\n",
    "#             dst_crs,\n",
    "#             src.width,\n",
    "#             src.height,\n",
    "#             *src.bounds\n",
    "#         )\n",
    "\n",
    "#         kwargs = src.meta.copy()\n",
    "#         kwargs.update({ \n",
    "#             'crs': dst_crs,\n",
    "#             'transform': transform,\n",
    "#             'width': width,\n",
    "#             'height': height\n",
    "#         })\n",
    "\n",
    "#         with rasterio.open(dst_filepath, 'w', **kwargs) as dst:\n",
    "#             for i in range(1, src.count + 1):\n",
    "#                 reproject(\n",
    "#                     rasterio.band(src, i), \n",
    "#                     rasterio.band(dst, i), \n",
    "#                     src_transform=src.transform, \n",
    "#                     src_crs=src.crs, \n",
    "#                     dst_transform=transform, \n",
    "#                     dst_crs=dst_crs, \n",
    "#                     resampling=resampling\n",
    "#                 )\n",
    "# reproject_tif('../Downloads/elevation.tif', './elevation_2163.tif', {'init': 'EPSG:2163'})"
   ]
  },
  {
   "cell_type": "code",
   "execution_count": null,
   "id": "f6eef59e",
   "metadata": {},
   "outputs": [],
   "source": [
    "# function for DataArray reprojection and return\n",
    "# elev_4326 = xr.open_rasterio('../Downloads/elevation.tif')\n",
    "# src_height, src_width = elev_4326.shape[-2], elev_4326.shape[-1]\n",
    "\n",
    "# left, right = float(elev_4326['x'][0].data), float(elev_4326['x'][-1].data)\n",
    "# bottom, top = float(elev_4326['y'][-1].data), float(elev_4326['y'][0].data)\n",
    "\n",
    "# dst_crs = {'init': 'EPSG:3857'}\n",
    "\n",
    "# with rasterio.Env():\n",
    "#     transform, height, width = calculate_default_transform(\n",
    "#         elev_4326.crs,\n",
    "#         dst_crs,\n",
    "#         src_width,\n",
    "#         src_height,\n",
    "#         left=left,\n",
    "#         bottom=bottom,\n",
    "#         right=right,\n",
    "#         top=top\n",
    "#     )\n",
    "    \n",
    "#     destination = np.zeros((width, height), np.uint8)\n",
    "    \n",
    "#     reproject(\n",
    "#         elev_4326.data,\n",
    "#         destination,\n",
    "#         src_transform=elev_4326.transform,\n",
    "#         src_crs=elev_4326.crs,\n",
    "#         dst_transform=transform,\n",
    "#         dst_crs=dst_crs,\n",
    "#         resampling=Resampling.nearest\n",
    "#     )\n",
    "    \n",
    "#     kwargs = {\n",
    "#         'dtype': rasterio.uint8,\n",
    "#         'count': 1,\n",
    "#         'crs': dst_crs,\n",
    "#         'transform': transform,\n",
    "#         'height': height,\n",
    "#         'width': width,\n",
    "#     }\n",
    "    \n",
    "#     destination = xr.DataArray(destination, dims=('y', 'x'))\n",
    "\n",
    "# destination = destination.expand_dims('band')\n",
    "# destination['band'] = elev_4326['band']\n",
    "\n",
    "# with rasterio.open('./elevation_da_tif_3857.tif', 'w', **kwargs) as dst:\n",
    "#     dst.write(destination[0].data, 1)\n",
    "    "
   ]
  },
  {
   "cell_type": "code",
   "execution_count": null,
   "id": "cf51b0c3",
   "metadata": {},
   "outputs": [],
   "source": [
    "# will go into module and just be imported eventually\n",
    "def reproject_xr_da(da, dst_crs, resolution=None,\n",
    "                    shape=None, transform=None,\n",
    "                    resampling=Resampling.nearest):\n",
    "    return da.rio.reproject(dst_crs, resolution=resolution,\n",
    "                            shape=shape, transform=transform,\n",
    "                            resampling=resampling)"
   ]
  },
  {
   "cell_type": "markdown",
   "id": "ac2aaed6",
   "metadata": {},
   "source": [
    "### Here's an example with an earth elevation terrain. \n",
    "The starting terrain is in latitude/longitude coordinates - EPSG:4326\n",
    "We'll load up the terrain DataArray and then apply reprojection to reproject it into web mercator coordinates - EPSG:3857."
   ]
  },
  {
   "cell_type": "markdown",
   "id": "55d43881",
   "metadata": {},
   "source": [
    "Here's the terrain in latitude/longitude:"
   ]
  },
  {
   "cell_type": "code",
   "execution_count": null,
   "id": "3ab53062",
   "metadata": {},
   "outputs": [],
   "source": [
    "earth_latlon = rioxarray.open_rasterio('../Downloads/elevation.tif')\n",
    "shade(earth_latlon[0], cmap=['black', 'lightblue', 'blue'])"
   ]
  },
  {
   "cell_type": "markdown",
   "id": "b0d09cb9",
   "metadata": {},
   "source": [
    "And now we'll reproject and show it in the new crs:"
   ]
  },
  {
   "cell_type": "code",
   "execution_count": null,
   "id": "e8923689",
   "metadata": {},
   "outputs": [],
   "source": [
    "dst_crs = 'EPSG:3857'\n",
    "earth_mercator = reproject_xr_da(earth_latlon, dst_crs)\n",
    "shade(earth_mercator[0], cmap=['black', 'lightblue', 'blue'])"
   ]
  }
 ],
 "metadata": {
  "language_info": {
   "name": "python"
  }
 },
 "nbformat": 4,
 "nbformat_minor": 5
}
